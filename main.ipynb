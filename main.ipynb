{
 "cells": [
  {
   "cell_type": "markdown",
   "metadata": {},
   "source": [
    "Data Loading"
   ]
  },
  {
   "cell_type": "code",
   "execution_count": 2,
   "metadata": {},
   "outputs": [],
   "source": [
    "import pre_proc as data"
   ]
  },
  {
   "cell_type": "markdown",
   "metadata": {},
   "source": [
    "Packages"
   ]
  },
  {
   "cell_type": "code",
   "execution_count": 22,
   "metadata": {},
   "outputs": [],
   "source": [
    "import numpy as np\n",
    "import matplotlib.pyplot as plt\n",
    "import h5py\n",
    "from VorXfeaturedVF import Velocity_Field"
   ]
  },
  {
   "cell_type": "markdown",
   "metadata": {},
   "source": [
    "Object creation"
   ]
  },
  {
   "cell_type": "code",
   "execution_count": 23,
   "metadata": {},
   "outputs": [
    {
     "ename": "TypeError",
     "evalue": "__init__() takes 9 positional arguments but 10 were given",
     "output_type": "error",
     "traceback": [
      "\u001b[1;31m---------------------------------------------------------------------------\u001b[0m",
      "\u001b[1;31mTypeError\u001b[0m                                 Traceback (most recent call last)",
      "\u001b[1;32m~\\AppData\\Local\\Temp\\ipykernel_24472\\673973405.py\u001b[0m in \u001b[0;36m<module>\u001b[1;34m\u001b[0m\n\u001b[0;32m      1\u001b[0m Velocity_FieldGenWT7 = Velocity_Field('GenWT7',data.uGenWT7, data.wGenWT7, data.zGenWT7,\n\u001b[0;32m      2\u001b[0m                                        \u001b[0mdata\u001b[0m\u001b[1;33m.\u001b[0m\u001b[0mdeltaWT7\u001b[0m\u001b[1;33m,\u001b[0m \u001b[0mdata\u001b[0m\u001b[1;33m.\u001b[0m\u001b[0mu_tauWT7\u001b[0m\u001b[1;33m,\u001b[0m \u001b[0mdata\u001b[0m\u001b[1;33m.\u001b[0m\u001b[0mDelxGenWT7\u001b[0m\u001b[1;33m,\u001b[0m\u001b[1;33m\u001b[0m\u001b[1;33m\u001b[0m\u001b[0m\n\u001b[1;32m----> 3\u001b[1;33m                                         data.nuWT7,  3)\n\u001b[0m\u001b[0;32m      4\u001b[0m Velocity_FieldGenWT10 = Velocity_Field('GenWT10',data.uGenWT10, data.wGenWT10, data.zGenWT10,\n\u001b[0;32m      5\u001b[0m                                         \u001b[0mdata\u001b[0m\u001b[1;33m.\u001b[0m\u001b[0mdeltaWT10\u001b[0m\u001b[1;33m,\u001b[0m \u001b[0mdata\u001b[0m\u001b[1;33m.\u001b[0m\u001b[0mu_tauWT10\u001b[0m\u001b[1;33m,\u001b[0m \u001b[0mdata\u001b[0m\u001b[1;33m.\u001b[0m\u001b[0mDelxGenWT10\u001b[0m\u001b[1;33m,\u001b[0m\u001b[1;33m\u001b[0m\u001b[1;33m\u001b[0m\u001b[0m\n",
      "\u001b[1;31mTypeError\u001b[0m: __init__() takes 9 positional arguments but 10 were given"
     ]
    }
   ],
   "source": [
    "Velocity_FieldGenWT7 = Velocity_Field('GenWT7',data.uGenWT7, data.wGenWT7, data.zGenWT7,\n",
    "                                       data.deltaWT7, data.u_tauWT7, data.DelxGenWT7,\n",
    "                                        data.nuWT7, LSM_len = 3)\n",
    "Velocity_FieldGenWT10 = Velocity_Field('GenWT10',data.uGenWT10, data.wGenWT10, data.zGenWT10,\n",
    "                                        data.deltaWT10, data.u_tauWT10, data.DelxGenWT10,\n",
    "                                        data.nuWT10, LSM_len = 3)\n",
    "Velocity_FieldGenASL = Velocity_Field('GenASL', data.uGenASL, data.wGenASL, data.zGenASL, \n",
    "                                      data.deltaASL, data.u_tauASL, data.DelxGenASL,\n",
    "                                        data.nuASL, LSM_len = 3)"
   ]
  },
  {
   "cell_type": "markdown",
   "metadata": {},
   "source": [
    "Object Properties"
   ]
  },
  {
   "cell_type": "code",
   "execution_count": 5,
   "metadata": {},
   "outputs": [
    {
     "name": "stdout",
     "output_type": "stream",
     "text": [
      "GenWT7 Velocity field size is 60000.\n",
      " length is from 0.009395739063620567 [m] to 0.05968786031007767 [m].\n",
      "value of delta is 0.4078648 [m].\n",
      "value of friction velocity is 0.39 [m/s].\n",
      "value of delta x is 0.010900000000000002 [m].\n",
      "value of delta z is 0.0002011684700846672 [m].\n",
      "value of Re_tau is 10131.673375796177.\n",
      "\n",
      "GenWT10 Velocity field size is 60000.\n",
      " length is from 0.011107276193797588 [m] to 0.05997924134135246 [m].\n",
      "value of delta is 0.3904 [m].\n",
      "value of friction velocity is 0.56 [m/s].\n",
      "value of delta x is 0.0103 [m].\n",
      "value of delta z is 0.0001954874023795128 [m].\n",
      "value of Re_tau is 13925.095541401275.\n",
      "\n",
      "GenASL Velocity field size is 60000.\n",
      " length is from 1.165218137204647 [m] to 4.471314338594675 [m].\n",
      "value of delta is 93 [m].\n",
      "value of friction velocity is 0.4 [m/s].\n",
      "value of delta x is 0.36800000000000005 [m].\n",
      "value of delta z is 0.013224384805560208 [m].\n",
      "value of Re_tau is 2952380.9523809524.\n",
      "\n"
     ]
    }
   ],
   "source": [
    "print(Velocity_FieldGenWT7)\n",
    "print(Velocity_FieldGenWT10)\n",
    "print(Velocity_FieldGenASL)"
   ]
  },
  {
   "cell_type": "markdown",
   "metadata": {},
   "source": [
    "Vortex structures(Lambdaci)"
   ]
  },
  {
   "cell_type": "code",
   "execution_count": 7,
   "metadata": {},
   "outputs": [],
   "source": [
    "Struct_Len = 3\n",
    "Velocity_FieldGenWT7.Lambdaci(Struct_Len)"
   ]
  },
  {
   "cell_type": "code",
   "execution_count": null,
   "metadata": {},
   "outputs": [],
   "source": [
    "Velocity_FieldGenWT10.Lambdaci(Struct_Len)"
   ]
  },
  {
   "cell_type": "code",
   "execution_count": null,
   "metadata": {},
   "outputs": [],
   "source": [
    "Velocity_FieldGenASL.Lambdaci(Struct_Len)"
   ]
  },
  {
   "cell_type": "markdown",
   "metadata": {},
   "source": [
    "Contour plot"
   ]
  },
  {
   "cell_type": "code",
   "execution_count": 9,
   "metadata": {},
   "outputs": [
    {
     "name": "stdout",
     "output_type": "stream",
     "text": [
      "Error: Frame number 1000 does not exist.\n"
     ]
    }
   ],
   "source": [
    "Velocity_FieldGenWT7.contour(Velocity_FieldGenWT7.lambdaci, 1000)"
   ]
  },
  {
   "cell_type": "code",
   "execution_count": null,
   "metadata": {},
   "outputs": [],
   "source": [
    "Velocity_FieldGenWT10.contour(Velocity_FieldGenWT10.lambdaci, 50)"
   ]
  },
  {
   "cell_type": "code",
   "execution_count": null,
   "metadata": {},
   "outputs": [],
   "source": [
    "Velocity_FieldGenASL.contour(Velocity_FieldGenASL.lambdaci, 16)"
   ]
  },
  {
   "cell_type": "markdown",
   "metadata": {},
   "source": [
    "Saving"
   ]
  },
  {
   "cell_type": "code",
   "execution_count": null,
   "metadata": {},
   "outputs": [],
   "source": [
    "for property, value in vars(Velocity_FieldGenWT10).items():\n",
    "    print(property, \":\", type(value))\n",
    "\n",
    "\n",
    "with h5py.File('Velocity_FieldGenWT7.h5', 'w') as f:\n",
    "    for attr, value in Velocity_FieldGenWT7.__dict__.items():\n",
    "        f.create_dataset(attr, data=value)\n",
    "\n",
    "with h5py.File('Velocity_FieldGenWT10.h5', 'w') as f:\n",
    "    for attr, value in Velocity_FieldGenWT10.__dict__.items():\n",
    "        f.create_dataset(attr, data=value)\n",
    "\n",
    "with h5py.File('Velocity_FieldGenASL.h5', 'w') as f:\n",
    "    for attr, value in Velocity_FieldGenASL.__dict__.items():\n",
    "        f.create_dataset(attr, data=value)"
   ]
  }
 ],
 "metadata": {
  "kernelspec": {
   "display_name": "General",
   "language": "python",
   "name": "python3"
  },
  "language_info": {
   "codemirror_mode": {
    "name": "ipython",
    "version": 3
   },
   "file_extension": ".py",
   "mimetype": "text/x-python",
   "name": "python",
   "nbconvert_exporter": "python",
   "pygments_lexer": "ipython3",
   "version": "3.7.11"
  }
 },
 "nbformat": 4,
 "nbformat_minor": 2
}
